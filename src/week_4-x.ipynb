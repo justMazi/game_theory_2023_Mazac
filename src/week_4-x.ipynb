{
 "cells": [
  {
   "cell_type": "code",
   "execution_count": null,
   "metadata": {},
   "outputs": [],
   "source": [
    "import numpy as np\n",
    "import NormalFormGames"
   ]
  },
  {
   "cell_type": "code",
   "execution_count": null,
   "metadata": {},
   "outputs": [],
   "source": [
    "\n",
    "game_of_chicken_row = np.array([[2, -2],\n",
    "                            [4, -20]])\n",
    "\n",
    "game_of_chicken_col = np.array([[2, 4],\n",
    "                            [-2, -20]])\n",
    "\n",
    "game = NormalFormGames.NormalFormGameCalculator(game_of_chicken_row, game_of_chicken_col)\n",
    "\n",
    "\n",
    "# todo, ta average row strategie ma na picu shape\n",
    "exploitabilities = game.regret_minimization(game_of_chicken_row, game_of_chicken_col, 10)\n",
    "\n",
    "import matplotlib.pyplot as plt\n",
    "\n",
    "exploitabilities"
   ]
  },
  {
   "cell_type": "code",
   "execution_count": null,
   "metadata": {},
   "outputs": [],
   "source": [
    "\n",
    "\n"
   ]
  }
 ],
 "metadata": {
  "kernelspec": {
   "display_name": "Python 3",
   "language": "python",
   "name": "python3"
  },
  "language_info": {
   "codemirror_mode": {
    "name": "ipython",
    "version": 3
   },
   "file_extension": ".py",
   "mimetype": "text/x-python",
   "name": "python",
   "nbconvert_exporter": "python",
   "pygments_lexer": "ipython3",
   "version": "3.10.12"
  }
 },
 "nbformat": 4,
 "nbformat_minor": 2
}
