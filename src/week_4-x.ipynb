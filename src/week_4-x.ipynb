{
 "cells": [
  {
   "cell_type": "code",
   "execution_count": 95,
   "metadata": {},
   "outputs": [],
   "source": [
    "import numpy as np\n",
    "import NormalFormGames"
   ]
  },
  {
   "cell_type": "code",
   "execution_count": 96,
   "metadata": {},
   "outputs": [
    {
     "data": {
      "text/plain": [
       "([array([0.5, 0.5]),\n",
       "  array([1., 0.]),\n",
       "  array([1., 0.]),\n",
       "  array([1., 0.]),\n",
       "  array([0.66666667, 0.33333333]),\n",
       "  array([0.5, 0.5]),\n",
       "  array([0.35, 0.65]),\n",
       "  array([0.17032967, 0.82967033]),\n",
       "  array([0., 1.]),\n",
       "  array([0., 1.])],\n",
       " [array([0.5, 0.5]),\n",
       "  array([1., 0.]),\n",
       "  array([1., 0.]),\n",
       "  array([1., 0.]),\n",
       "  array([1., 0.]),\n",
       "  array([1., 0.]),\n",
       "  array([1., 0.]),\n",
       "  array([1., 0.]),\n",
       "  array([1., 0.]),\n",
       "  array([1., 0.])],\n",
       " array([-4.62600733,  5.37399267]),\n",
       " array([   7.        , -129.26007326]),\n",
       " [array([ 4., -4.]),\n",
       "  array([4., 6.]),\n",
       "  array([2., 4.]),\n",
       "  array([0., 2.]),\n",
       "  array([-2.66666667, -0.66666667]),\n",
       "  array([-5.66666667, -3.66666667]),\n",
       "  array([-8.96666667, -6.96666667]),\n",
       "  array([-12.62600733, -10.62600733]),\n",
       "  array([-16.62600733, -14.62600733]),\n",
       "  array([-20.62600733, -18.62600733])],\n",
       " [array([ 7., -7.]),\n",
       "  array([4., 0.]),\n",
       "  array([ 2., -2.]),\n",
       "  array([ 0., -4.]),\n",
       "  array([ -2.        , -12.66666667]),\n",
       "  array([ -4.66666667, -18.66666667]),\n",
       "  array([ -7.66666667, -24.66666667]),\n",
       "  array([-10.96666667, -31.56007326]),\n",
       "  array([-14.62600733, -38.62600733]),\n",
       "  array([-18.62600733, -42.62600733])])"
      ]
     },
     "execution_count": 96,
     "metadata": {},
     "output_type": "execute_result"
    }
   ],
   "source": [
    "\n",
    "game_of_chicken_row = np.array([[2, -2],\n",
    "                            [4, -20]])\n",
    "\n",
    "game_of_chicken_col = np.array([[2, 4],\n",
    "                            [-2, -20]])\n",
    "\n",
    "game = NormalFormGames.NormalFormGameCalculator(game_of_chicken_row, game_of_chicken_col)\n",
    "\n",
    "exploitabilities = game.regret_minimization(game_of_chicken_row, game_of_chicken_col, 10)\n",
    "\n",
    "import matplotlib.pyplot as plt\n",
    "\n",
    "exploitabilities"
   ]
  },
  {
   "cell_type": "code",
   "execution_count": null,
   "metadata": {},
   "outputs": [],
   "source": [
    "\n",
    "\n"
   ]
  }
 ],
 "metadata": {
  "kernelspec": {
   "display_name": "Python 3",
   "language": "python",
   "name": "python3"
  },
  "language_info": {
   "codemirror_mode": {
    "name": "ipython",
    "version": 3
   },
   "file_extension": ".py",
   "mimetype": "text/x-python",
   "name": "python",
   "nbconvert_exporter": "python",
   "pygments_lexer": "ipython3",
   "version": "3.10.12"
  }
 },
 "nbformat": 4,
 "nbformat_minor": 2
}
