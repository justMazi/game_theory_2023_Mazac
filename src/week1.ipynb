{
 "cells": [
  {
   "cell_type": "code",
   "execution_count": 128,
   "metadata": {},
   "outputs": [],
   "source": [
    "import numpy as np\n",
    "import pytest\n",
    "import numpy.typing as npt"
   ]
  },
  {
   "cell_type": "code",
   "execution_count": 129,
   "metadata": {},
   "outputs": [],
   "source": [
    "class NormalFormGameCalculator:\n",
    "\n",
    "    # non zero sum game constructor\n",
    "    def __init__(self,\n",
    "                 row_player_utility_matrix: npt.NDArray[np.float64],\n",
    "                 column_player_utility_matrix: npt.NDArray[np.float64]) -> None:\n",
    "\n",
    "        # if col player utility is not provided, we consider this a zero sum game\n",
    "        if(column_player_utility_matrix is None):\n",
    "            column_player_utility_matrix = -row_player_utility_matrix\n",
    "\n",
    "        self.row_player_utility_matrix = row_player_utility_matrix\n",
    "        self.column_player_utility_matrix = column_player_utility_matrix\n",
    "\n",
    "\n",
    "    # calculation section\n",
    "\n",
    "    def calculate_utilities(self,\n",
    "                            row_player_strategy: npt.NDArray[np.float64],\n",
    "                            column_player_strategy: npt.NDArray[np.float64]) -> [np.float64, np.float64]:\n",
    "\n",
    "\n",
    "        action_probabilities = row_player_strategy @ column_player_strategy\n",
    "        assert action_probabilities.sum() == pytest.approx(1)\n",
    "\n",
    "        row_player_utility = action_probabilities * self.row_player_utility_matrix\n",
    "        column_player_utility = action_probabilities * self.column_player_utility_matrix\n",
    "\n",
    "        return row_player_utility.sum(), column_player_utility.sum()\n",
    "\n",
    "    def get_best_response_strategy_against_row_player(self,\n",
    "                                                  row_player_strategy: npt.NDArray[np.float64],\n",
    "                                                  column_utility_matrix: npt.NDArray[np.float64]) -> npt.NDArray[np.float64]:\n",
    "\n",
    "        array_of_zeros = np.zeros(column_utility_matrix.shape[0])\n",
    "        utilities = column_utility_matrix @ row_player_strategy\n",
    "        index = np.argmax(utilities)\n",
    "        array_of_zeros[index] = 1\n",
    "        best_response = np.reshape(a=array_of_zeros, newshape=(1,3))\n",
    "        return (best_response)\n",
    "    \n",
    "    def get_best_response_strategy_against_column_player(self,\n",
    "                                                  column_player_strategy: npt.NDArray[np.float64],\n",
    "                                                  row_utility_matrix: npt.NDArray[np.float64]) -> npt.NDArray[np.float64]:\n",
    "        \n",
    "        array_of_zeros = np.zeros(row_utility_matrix.shape[1])\n",
    "        utilities = column_player_strategy @ row_utility_matrix\n",
    "        index = np.argmax(utilities)\n",
    "        array_of_zeros[index] = 1\n",
    "        best_response = np.reshape(a=array_of_zeros, newshape=(3,1))\n",
    "        return (best_response)\n",
    "    \n",
    "\n",
    "\n"
   ]
  },
  {
   "cell_type": "code",
   "execution_count": 130,
   "metadata": {},
   "outputs": [
    {
     "data": {
      "text/plain": [
       "0.08000000000000002"
      ]
     },
     "execution_count": 130,
     "metadata": {},
     "output_type": "execute_result"
    }
   ],
   "source": [
    "rock_paper_scissors__utility_matrix = np.array([[0, 1, -1], [-1, 0, 1], [1, -1, 0]])\n",
    "\n",
    "column_strategy = np.array([[0.3, 0.2, 0.5]])\n",
    "\n",
    "row_strategy = np.array([[0.1,\n",
    "                          0.2,\n",
    "                          0.7]]).transpose()\n",
    "\n",
    "\n",
    "normal_game_calculator = NormalFormGameCalculator(rock_paper_scissors__utility_matrix, None)\n",
    "\n",
    "row_util, _ = normal_game_calculator.calculate_utilities(row_strategy, column_strategy)\n",
    "\n",
    "assert row_util == pytest.approx(0.08)\n",
    "\n",
    "row_util"
   ]
  },
  {
   "cell_type": "code",
   "execution_count": 131,
   "metadata": {},
   "outputs": [
    {
     "data": {
      "text/plain": [
       "(-0.6, -0.2)"
      ]
     },
     "execution_count": 131,
     "metadata": {},
     "output_type": "execute_result"
    }
   ],
   "source": [
    "\n",
    "\n",
    "best_col = normal_game_calculator.get_best_response_strategy_against_row_player(row_strategy, rock_paper_scissors__utility_matrix)\n",
    "best_row = normal_game_calculator.get_best_response_strategy_against_column_player(column_strategy, -rock_paper_scissors__utility_matrix)\n",
    "\n",
    "# values when facing best responding opponent\n",
    "rowvalue2, _ = normal_game_calculator.calculate_utilities(row_strategy, best_col)\n",
    "_, colvalue1 = normal_game_calculator.calculate_utilities(best_row, column_strategy)\n",
    "\n",
    "assert rowvalue2 == pytest.approx(-0.6)\n",
    "assert colvalue1 == pytest.approx(-0.2)\n",
    "\n",
    "rowvalue2, colvalue1"
   ]
  }
 ],
 "metadata": {
  "kernelspec": {
   "display_name": "Python 3",
   "language": "python",
   "name": "python3"
  },
  "language_info": {
   "codemirror_mode": {
    "name": "ipython",
    "version": 3
   },
   "file_extension": ".py",
   "mimetype": "text/x-python",
   "name": "python",
   "nbconvert_exporter": "python",
   "pygments_lexer": "ipython3",
   "version": "3.10.12"
  }
 },
 "nbformat": 4,
 "nbformat_minor": 2
}
