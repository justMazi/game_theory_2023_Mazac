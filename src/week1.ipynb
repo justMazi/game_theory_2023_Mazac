{
 "cells": [
  {
   "cell_type": "code",
   "execution_count": 14,
   "metadata": {},
   "outputs": [],
   "source": [
    "import numpy as np\n",
    "import pytest\n",
    "import numpy.typing as npt"
   ]
  },
  {
   "cell_type": "code",
   "execution_count": 15,
   "metadata": {},
   "outputs": [],
   "source": [
    "class NormalFormGameCalculator:\n",
    "\n",
    "    # non zero sum game constructor\n",
    "    def __init__(self,\n",
    "                 row_player_utility_matrix: npt.NDArray[np.float64],\n",
    "                 column_player_utility_matrix: npt.NDArray[np.float64]) -> None:\n",
    "\n",
    "        # if col player utility is not provided, we consider this a zero sum game\n",
    "        if(column_player_utility_matrix is None):\n",
    "            column_player_utility_matrix = -row_player_utility_matrix\n",
    "\n",
    "        self.row_player_utility_matrix = row_player_utility_matrix\n",
    "        self.column_player_utility_matrix = column_player_utility_matrix\n",
    "\n",
    "\n",
    "    # calculation section\n",
    "\n",
    "    def calculate_utilities(self,\n",
    "                            row_player_strategy: npt.NDArray[np.float64],\n",
    "                            column_player_strategy: npt.NDArray[np.float64]) -> [np.float64, np.float64]:\n",
    "\n",
    "\n",
    "        action_probabilities = row_player_strategy @ column_player_strategy\n",
    "        assert action_probabilities.sum() == pytest.approx(1)\n",
    "\n",
    "        row_player_utility = action_probabilities * self.row_player_utility_matrix\n",
    "        column_player_utility = action_probabilities * self.column_player_utility_matrix\n",
    "\n",
    "        return row_player_utility.sum(), column_player_utility.sum()\n",
    "\n",
    "    def get_best_response_strategy_against_row_player(self,\n",
    "                                                  row_player_strategy: npt.NDArray[np.float64],\n",
    "                                                  column_utility_matrix: npt.NDArray[np.float64]) -> npt.NDArray[np.float64]:\n",
    "\n",
    "        array_of_zeros = np.zeros(column_utility_matrix.shape[0])\n",
    "        utilities = column_utility_matrix @ row_player_strategy\n",
    "        index = np.argmax(utilities)\n",
    "        array_of_zeros[index] = 1\n",
    "        best_response = np.reshape(a=array_of_zeros, newshape=(1,3))\n",
    "        return (best_response)\n",
    "    \n",
    "    def get_best_response_strategy_against_column_player(self,\n",
    "                                                  column_player_strategy: npt.NDArray[np.float64],\n",
    "                                                  row_utility_matrix: npt.NDArray[np.float64]) -> npt.NDArray[np.float64]:\n",
    "        \n",
    "        array_of_zeros = np.zeros(row_utility_matrix.shape[1])\n",
    "        utilities = column_player_strategy @ row_utility_matrix\n",
    "        index = np.argmax(utilities)\n",
    "        array_of_zeros[index] = 1\n",
    "        best_response = np.reshape(a=array_of_zeros, newshape=(3,1))\n",
    "        return (best_response)\n",
    "    \n",
    "\n",
    "\n"
   ]
  },
  {
   "cell_type": "code",
   "execution_count": 16,
   "metadata": {},
   "outputs": [
    {
     "data": {
      "text/plain": [
       "0.08000000000000002"
      ]
     },
     "execution_count": 16,
     "metadata": {},
     "output_type": "execute_result"
    }
   ],
   "source": [
    "rock_paper_scissors__utility_matrix = np.array([[0, 1, -1], [-1, 0, 1], [1, -1, 0]])\n",
    "\n",
    "column_strategy = np.array([[0.3, 0.2, 0.5]])\n",
    "\n",
    "row_strategy = np.array([[0.1,\n",
    "                          0.2,\n",
    "                          0.7]]).transpose()\n",
    "\n",
    "\n",
    "normal_game_calculator = NormalFormGameCalculator(rock_paper_scissors__utility_matrix, None)\n",
    "\n",
    "row_util, _ = normal_game_calculator.calculate_utilities(row_strategy, column_strategy)\n",
    "\n",
    "assert row_util == pytest.approx(0.08)\n",
    "\n",
    "row_util"
   ]
  },
  {
   "cell_type": "code",
   "execution_count": 17,
   "metadata": {},
   "outputs": [
    {
     "data": {
      "text/plain": [
       "(-0.6, -0.2)"
      ]
     },
     "execution_count": 17,
     "metadata": {},
     "output_type": "execute_result"
    }
   ],
   "source": [
    "\n",
    "\n",
    "best_col = normal_game_calculator.get_best_response_strategy_against_row_player(row_strategy, rock_paper_scissors__utility_matrix)\n",
    "best_row = normal_game_calculator.get_best_response_strategy_against_column_player(column_strategy, -rock_paper_scissors__utility_matrix)\n",
    "\n",
    "# values when facing best responding opponent\n",
    "rowvalue2, _ = normal_game_calculator.calculate_utilities(row_strategy, best_col)\n",
    "_, colvalue1 = normal_game_calculator.calculate_utilities(best_row, column_strategy)\n",
    "\n",
    "assert rowvalue2 == pytest.approx(-0.6)\n",
    "assert colvalue1 == pytest.approx(-0.2)\n",
    "\n",
    "rowvalue2, colvalue1"
   ]
  },
  {
   "cell_type": "code",
   "execution_count": 23,
   "metadata": {},
   "outputs": [],
   "source": [
    "\n",
    "def find_dominated_actions(matrix, axis):\n",
    "    dominated_actions = []\n",
    "    for i in range(matrix.shape[axis]):\n",
    "        for j in range(matrix.shape[axis]):\n",
    "            if i >= j:\n",
    "                continue\n",
    "            if np.all(np.take(matrix, i, axis=axis) >= np.take(matrix, j, axis=axis)):\n",
    "                dominated_actions.append(j)\n",
    "    return dominated_actions\n",
    "\n",
    "def find_dominated(matrix1, matrix2):\n",
    "    dominated_rows = find_dominated_actions(matrix1, axis=0)\n",
    "    dominated_columns = find_dominated_actions(matrix2, axis=1)\n",
    "    return dominated_rows, dominated_columns\n",
    "\n",
    "def iterated_removal_of_dominated_strategies(matrix1, matrix2):\n",
    "    temp1 = matrix1[:]\n",
    "    temp2 = matrix2[:]\n",
    "    while True:\n",
    "        dominated_rows, dominated_columns = find_dominated(temp1, temp2)\n",
    "        if len(dominated_rows) + len(dominated_columns) == 0:\n",
    "            break\n",
    "    \n",
    "        non_dominated_mask = np.ones(temp1.shape[0], dtype=bool)\n",
    "        non_dominated_mask[dominated_rows] = False\n",
    "        \n",
    "        temp1 = temp1[non_dominated_mask]\n",
    "        temp2 = temp2[non_dominated_mask]\n",
    "\n",
    "        non_dominated_mask = np.ones(temp1.shape[1], dtype=bool)\n",
    "        non_dominated_mask[dominated_columns] = False\n",
    "\n",
    "        temp1 = temp1[:,non_dominated_mask]\n",
    "        temp2 = temp2[:,non_dominated_mask]\n",
    "\n",
    "    return temp1, temp2\n",
    "\n",
    "\n",
    "def check_strat_is_row_strat(strat: np.array):\n",
    "    assert len(strat.shape) == 2 and strat.shape[0] == 1\n",
    "    \n",
    "def check_strat_is_col_strat(strat: np.array):\n",
    "    assert len(strat.shape) == 2 and strat.shape[1] == 1\n",
    "\n",
    "\n",
    "matrix1 = np.array([[13,1,7], [4,3,6], [-1,2,8]])\n",
    "matrix2 = np.array([[3,4,3], [1,3,2], [9,8,-1]])\n",
    "\n",
    "matrixA, matrixB = iterated_removal_of_dominated_strategies(matrix1=matrix1, matrix2=matrix2)\n",
    "expected_matrixA = np.array([[13, 1], [4, 3]])\n",
    "expected_matrixB = np.array([[3, 4], [1, 3]])\n",
    "\n",
    "assert np.array_equal(matrixA, expected_matrixA)\n",
    "assert np.array_equal(matrixB, expected_matrixB)\n",
    "\n",
    "matrix1 = np.array([[10,5,3], [0,4,6], [2,3,2]])\n",
    "matrix2 = np.array([[4,3,2], [1,6,0], [1,5,8]])\n",
    "\n",
    "matrixA, matrixB = iterated_removal_of_dominated_strategies(matrix1=matrix1, matrix2=matrix2)\n",
    "expected_matrixA = np.array([[10]])\n",
    "expected_matrixB = np.array([[4]])\n",
    "\n",
    "assert np.array_equal(matrixA, expected_matrixA)\n",
    "assert np.array_equal(matrixB, expected_matrixB)"
   ]
  }
 ],
 "metadata": {
  "kernelspec": {
   "display_name": "Python 3",
   "language": "python",
   "name": "python3"
  },
  "language_info": {
   "codemirror_mode": {
    "name": "ipython",
    "version": 3
   },
   "file_extension": ".py",
   "mimetype": "text/x-python",
   "name": "python",
   "nbconvert_exporter": "python",
   "pygments_lexer": "ipython3",
   "version": "3.10.12"
  }
 },
 "nbformat": 4,
 "nbformat_minor": 2
}
