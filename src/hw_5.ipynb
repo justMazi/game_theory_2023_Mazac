{
 "cells": [
  {
   "cell_type": "code",
   "execution_count": 2,
   "metadata": {},
   "outputs": [],
   "source": [
    "import numpy as np\n",
    "import NormalFormGames"
   ]
  },
  {
   "cell_type": "code",
   "execution_count": 3,
   "metadata": {},
   "outputs": [],
   "source": [
    "\n",
    "\n",
    "game_of_chicken_row = np.array([[-10, 0],\n",
    "                                [1, -1]])\n",
    "\n",
    "game_of_chicken_col = np.array([[-10, 1],\n",
    "                                [0, -1]])\n",
    "\n",
    "game = NormalFormGames.NormalFormGameCalculator(game_of_chicken_row, game_of_chicken_col)\n",
    "\n",
    "\n",
    "exploitabilities, average_strat_row, average_strat_col = game.regret_minimization(100, use_average_strat_exploitation = True)\n",
    "exploitabilities2, average_strat_row2, average_strat_col2 = game.regret_minimization(100, use_average_strat_exploitation = False)\n",
    "\n",
    "import matplotlib.pyplot as plt\n",
    "\n",
    "plt.plot(exploitabilities, label = \"average\")\n",
    "plt.plot(exploitabilities2, label = \"current\")\n",
    "\n",
    "plt.xlabel('Iteration')\n",
    "plt.ylabel('Exploitability')\n",
    "plt.title('Exploitability over Iterations - Game of chicken')\n",
    "plt.legend()\n",
    "plt.show()\n",
    "\n",
    "average_strat_row, average_strat_col"
   ]
  }
 ],
 "metadata": {
  "kernelspec": {
   "display_name": "Python 3",
   "language": "python",
   "name": "python3"
  },
  "language_info": {
   "codemirror_mode": {
    "name": "ipython",
    "version": 3
   },
   "file_extension": ".py",
   "mimetype": "text/x-python",
   "name": "python",
   "nbconvert_exporter": "python",
   "pygments_lexer": "ipython3",
   "version": "3.11.9"
  }
 },
 "nbformat": 4,
 "nbformat_minor": 2
}
